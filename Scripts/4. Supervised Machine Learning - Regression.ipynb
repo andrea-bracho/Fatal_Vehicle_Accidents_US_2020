{
 "cells": [
  {
   "cell_type": "markdown",
   "metadata": {},
   "source": [
    "# TASK 6.4: Supervised Machine Learning\n",
    "\n",
    "### 1. Import Libraries & Files\n",
    "### 2. Cleaning data\n",
    "### 3. Explore data visually\n",
    "### 4. State Hypothesis\n",
    "### 5. Reshape the variables into NumPy arrays\n",
    "### 6. Split the data into a training set and a test set\n",
    "### 7. Run a linear regression on the data - First, fit the model you created to the training set. Then, create a prediction for y on the test set\n",
    "### 8. Create a plot that shows the regression line on the test set.\n",
    "### 9. Interpretation of how well the line appears to fit the data.\n",
    "### 10. Check the model performance statistics—MSE and R2\n",
    "### 11. Compare the predicted y values with the actual y values in a dataframe"
   ]
  },
  {
   "cell_type": "markdown",
   "metadata": {},
   "source": [
    "## 1. Import Libraries & Files"
   ]
  },
  {
   "cell_type": "code",
   "execution_count": 1,
   "metadata": {},
   "outputs": [],
   "source": [
    "# Import Libraries\n",
    "import pandas as pd\n",
    "import numpy as np\n",
    "import seaborn as sns\n",
    "import matplotlib\n",
    "import matplotlib.pyplot as plt\n",
    "import os\n",
    "import sklearn\n",
    "from sklearn.model_selection import train_test_split \n",
    "from sklearn.linear_model import LinearRegression\n",
    "from sklearn.metrics import mean_squared_error, r2_score"
   ]
  },
  {
   "cell_type": "code",
   "execution_count": 2,
   "metadata": {},
   "outputs": [],
   "source": [
    "# Display graphs\n",
    "%matplotlib inline"
   ]
  },
  {
   "cell_type": "code",
   "execution_count": 3,
   "metadata": {},
   "outputs": [],
   "source": [
    "# Import data:\n",
    "# Create string of location\n",
    "path = '/Users/aegarcia/Desktop/Data analytics/6. Adv Analytics & Dasboard design'\n",
    "# Import accidents data\n",
    "df_car = pd.read_csv(os.path.join(path, '2 Data', 'Prepared data', 'accidents_clean2.csv'), index_col = False)\n",
    "df_acc_state = pd.read_csv(os.path.join(path, '2 Data', 'Original data', 'accidents_per_state.csv'), index_col = False)"
   ]
  },
  {
   "cell_type": "markdown",
   "metadata": {},
   "source": [
    "## 2. Cleaning data"
   ]
  },
  {
   "cell_type": "code",
   "execution_count": 4,
   "metadata": {},
   "outputs": [
    {
     "data": {
      "text/plain": [
       "Index(['Unnamed: 0', 'number', 'state', 'date', 'weekday', 'county', 'time',\n",
       "       'hour', 'total_vehicles', 'persons', 'fatalities', 'route_type',\n",
       "       'urban_rural', 'driver_age', 'driver_gender', 'driver_license',\n",
       "       'car_year', 'car_make', 'car_model', 'speed_limit', 'above_limit',\n",
       "       'weather', 'driver_drugs', 'drug_category', 'type_drugs',\n",
       "       'driver_alcohol', 'alcohol_level (%)', 'death_race', 'age_range',\n",
       "       'speed_range', 'drug_alcohol_use', 'weekday_no'],\n",
       "      dtype='object')"
      ]
     },
     "execution_count": 4,
     "metadata": {},
     "output_type": "execute_result"
    }
   ],
   "source": [
    "# Check names of columns\n",
    "df_car.columns"
   ]
  },
  {
   "cell_type": "code",
   "execution_count": 5,
   "metadata": {},
   "outputs": [],
   "source": [
    "# Drop the first columns\n",
    "df_car = df_car.drop(columns = ['Unnamed: 0'])"
   ]
  },
  {
   "cell_type": "code",
   "execution_count": 6,
   "metadata": {},
   "outputs": [
    {
     "data": {
      "text/plain": [
       "Index(['number', 'state', 'date', 'weekday', 'county', 'time', 'hour',\n",
       "       'total_vehicles', 'persons', 'fatalities', 'route_type', 'urban_rural',\n",
       "       'driver_age', 'driver_gender', 'driver_license', 'car_year', 'car_make',\n",
       "       'car_model', 'speed_limit', 'above_limit', 'weather', 'driver_drugs',\n",
       "       'drug_category', 'type_drugs', 'driver_alcohol', 'alcohol_level (%)',\n",
       "       'death_race', 'age_range', 'speed_range', 'drug_alcohol_use',\n",
       "       'weekday_no'],\n",
       "      dtype='object')"
      ]
     },
     "execution_count": 6,
     "metadata": {},
     "output_type": "execute_result"
    }
   ],
   "source": [
    "# Check columns again\n",
    "df_car.columns"
   ]
  },
  {
   "cell_type": "code",
   "execution_count": 7,
   "metadata": {},
   "outputs": [
    {
     "data": {
      "text/html": [
       "<div>\n",
       "<style scoped>\n",
       "    .dataframe tbody tr th:only-of-type {\n",
       "        vertical-align: middle;\n",
       "    }\n",
       "\n",
       "    .dataframe tbody tr th {\n",
       "        vertical-align: top;\n",
       "    }\n",
       "\n",
       "    .dataframe thead th {\n",
       "        text-align: right;\n",
       "    }\n",
       "</style>\n",
       "<table border=\"1\" class=\"dataframe\">\n",
       "  <thead>\n",
       "    <tr style=\"text-align: right;\">\n",
       "      <th></th>\n",
       "      <th>number</th>\n",
       "      <th>state</th>\n",
       "      <th>date</th>\n",
       "      <th>weekday</th>\n",
       "      <th>county</th>\n",
       "      <th>time</th>\n",
       "      <th>hour</th>\n",
       "      <th>total_vehicles</th>\n",
       "      <th>persons</th>\n",
       "      <th>fatalities</th>\n",
       "      <th>route_type</th>\n",
       "      <th>urban_rural</th>\n",
       "      <th>driver_age</th>\n",
       "      <th>driver_gender</th>\n",
       "      <th>driver_license</th>\n",
       "      <th>car_year</th>\n",
       "      <th>car_make</th>\n",
       "      <th>car_model</th>\n",
       "      <th>speed_limit</th>\n",
       "      <th>above_limit</th>\n",
       "      <th>weather</th>\n",
       "      <th>driver_drugs</th>\n",
       "      <th>drug_category</th>\n",
       "      <th>type_drugs</th>\n",
       "      <th>driver_alcohol</th>\n",
       "      <th>alcohol_level (%)</th>\n",
       "      <th>death_race</th>\n",
       "      <th>age_range</th>\n",
       "      <th>speed_range</th>\n",
       "      <th>drug_alcohol_use</th>\n",
       "      <th>weekday_no</th>\n",
       "    </tr>\n",
       "  </thead>\n",
       "  <tbody>\n",
       "    <tr>\n",
       "      <th>0</th>\n",
       "      <td>0</td>\n",
       "      <td>Alabama</td>\n",
       "      <td>January 1, 2020</td>\n",
       "      <td>Wednesday</td>\n",
       "      <td>ELMORE</td>\n",
       "      <td>2:58</td>\n",
       "      <td>2</td>\n",
       "      <td>1</td>\n",
       "      <td>4</td>\n",
       "      <td>3</td>\n",
       "      <td>County Road</td>\n",
       "      <td>Rural</td>\n",
       "      <td>24</td>\n",
       "      <td>Male</td>\n",
       "      <td>Suspended</td>\n",
       "      <td>1997.0</td>\n",
       "      <td>Lexus</td>\n",
       "      <td>ES</td>\n",
       "      <td>45</td>\n",
       "      <td>Yes</td>\n",
       "      <td>Clear</td>\n",
       "      <td>No</td>\n",
       "      <td>No drug</td>\n",
       "      <td>Tested, No Drugs Found/Negative</td>\n",
       "      <td>Yes</td>\n",
       "      <td>0.294</td>\n",
       "      <td>Black or African American</td>\n",
       "      <td>Young adult</td>\n",
       "      <td>31 - 59 mph</td>\n",
       "      <td>alcohol</td>\n",
       "      <td>3.0</td>\n",
       "    </tr>\n",
       "    <tr>\n",
       "      <th>1</th>\n",
       "      <td>1</td>\n",
       "      <td>Alabama</td>\n",
       "      <td>January 2, 2020</td>\n",
       "      <td>Thursday</td>\n",
       "      <td>JEFFERSON</td>\n",
       "      <td>17:18</td>\n",
       "      <td>17</td>\n",
       "      <td>4</td>\n",
       "      <td>6</td>\n",
       "      <td>1</td>\n",
       "      <td>Local Street</td>\n",
       "      <td>Urban</td>\n",
       "      <td>40</td>\n",
       "      <td>Female</td>\n",
       "      <td>Suspended</td>\n",
       "      <td>1993.0</td>\n",
       "      <td>Chevrolet</td>\n",
       "      <td>Corsica</td>\n",
       "      <td>35</td>\n",
       "      <td>No</td>\n",
       "      <td>Rain</td>\n",
       "      <td>Yes</td>\n",
       "      <td>Opioid</td>\n",
       "      <td>FENTANYL</td>\n",
       "      <td>No</td>\n",
       "      <td>0.000</td>\n",
       "      <td>Not a Fatality (not Applicable)</td>\n",
       "      <td>Adult</td>\n",
       "      <td>31 - 59 mph</td>\n",
       "      <td>drugs</td>\n",
       "      <td>4.0</td>\n",
       "    </tr>\n",
       "    <tr>\n",
       "      <th>2</th>\n",
       "      <td>2</td>\n",
       "      <td>Alabama</td>\n",
       "      <td>January 2, 2020</td>\n",
       "      <td>Thursday</td>\n",
       "      <td>SHELBY</td>\n",
       "      <td>14:55</td>\n",
       "      <td>14</td>\n",
       "      <td>2</td>\n",
       "      <td>2</td>\n",
       "      <td>1</td>\n",
       "      <td>State Highway</td>\n",
       "      <td>Rural</td>\n",
       "      <td>34</td>\n",
       "      <td>Female</td>\n",
       "      <td>Revoked</td>\n",
       "      <td>1995.0</td>\n",
       "      <td>Toyota</td>\n",
       "      <td>Camry</td>\n",
       "      <td>65</td>\n",
       "      <td>Yes</td>\n",
       "      <td>Rain</td>\n",
       "      <td>No</td>\n",
       "      <td>No drug</td>\n",
       "      <td>Test Not Given</td>\n",
       "      <td>No</td>\n",
       "      <td>0.000</td>\n",
       "      <td>White</td>\n",
       "      <td>Young adult</td>\n",
       "      <td>60mph and above</td>\n",
       "      <td>none</td>\n",
       "      <td>4.0</td>\n",
       "    </tr>\n",
       "    <tr>\n",
       "      <th>3</th>\n",
       "      <td>3</td>\n",
       "      <td>Alabama</td>\n",
       "      <td>January 3, 2020</td>\n",
       "      <td>Friday</td>\n",
       "      <td>CALHOUN</td>\n",
       "      <td>15:20</td>\n",
       "      <td>15</td>\n",
       "      <td>1</td>\n",
       "      <td>5</td>\n",
       "      <td>1</td>\n",
       "      <td>County Road</td>\n",
       "      <td>Rural</td>\n",
       "      <td>17</td>\n",
       "      <td>Male</td>\n",
       "      <td>Valid</td>\n",
       "      <td>2007.0</td>\n",
       "      <td>Hyundai</td>\n",
       "      <td>Azera</td>\n",
       "      <td>35</td>\n",
       "      <td>Yes</td>\n",
       "      <td>Cloudy</td>\n",
       "      <td>Yes</td>\n",
       "      <td>Depressant</td>\n",
       "      <td>DELTA 9</td>\n",
       "      <td>No</td>\n",
       "      <td>0.000</td>\n",
       "      <td>Not a Fatality (not Applicable)</td>\n",
       "      <td>Teenager</td>\n",
       "      <td>31 - 59 mph</td>\n",
       "      <td>drugs</td>\n",
       "      <td>5.0</td>\n",
       "    </tr>\n",
       "    <tr>\n",
       "      <th>4</th>\n",
       "      <td>4</td>\n",
       "      <td>Alabama</td>\n",
       "      <td>January 4, 2020</td>\n",
       "      <td>Saturday</td>\n",
       "      <td>COOSA</td>\n",
       "      <td>0:45</td>\n",
       "      <td>0</td>\n",
       "      <td>1</td>\n",
       "      <td>1</td>\n",
       "      <td>1</td>\n",
       "      <td>County Road</td>\n",
       "      <td>Rural</td>\n",
       "      <td>47</td>\n",
       "      <td>Female</td>\n",
       "      <td>Valid</td>\n",
       "      <td>2013.0</td>\n",
       "      <td>GMC</td>\n",
       "      <td>Yukon</td>\n",
       "      <td>45</td>\n",
       "      <td>No</td>\n",
       "      <td>Rain</td>\n",
       "      <td>No</td>\n",
       "      <td>No drug</td>\n",
       "      <td>Test Not Given</td>\n",
       "      <td>No</td>\n",
       "      <td>0.000</td>\n",
       "      <td>White</td>\n",
       "      <td>Adult</td>\n",
       "      <td>31 - 59 mph</td>\n",
       "      <td>none</td>\n",
       "      <td>6.0</td>\n",
       "    </tr>\n",
       "  </tbody>\n",
       "</table>\n",
       "</div>"
      ],
      "text/plain": [
       "   number    state             date    weekday      county   time  hour  \\\n",
       "0       0  Alabama  January 1, 2020  Wednesday     ELMORE    2:58     2   \n",
       "1       1  Alabama  January 2, 2020   Thursday  JEFFERSON   17:18    17   \n",
       "2       2  Alabama  January 2, 2020   Thursday     SHELBY   14:55    14   \n",
       "3       3  Alabama  January 3, 2020     Friday    CALHOUN   15:20    15   \n",
       "4       4  Alabama  January 4, 2020   Saturday      COOSA    0:45     0   \n",
       "\n",
       "   total_vehicles  persons  fatalities     route_type urban_rural  driver_age  \\\n",
       "0               1        4           3    County Road       Rural          24   \n",
       "1               4        6           1   Local Street       Urban          40   \n",
       "2               2        2           1  State Highway       Rural          34   \n",
       "3               1        5           1    County Road       Rural          17   \n",
       "4               1        1           1    County Road       Rural          47   \n",
       "\n",
       "  driver_gender driver_license  car_year   car_make car_model  speed_limit  \\\n",
       "0          Male      Suspended    1997.0      Lexus        ES           45   \n",
       "1        Female      Suspended    1993.0  Chevrolet   Corsica           35   \n",
       "2        Female        Revoked    1995.0     Toyota     Camry           65   \n",
       "3          Male          Valid    2007.0    Hyundai     Azera           35   \n",
       "4        Female          Valid    2013.0        GMC     Yukon           45   \n",
       "\n",
       "  above_limit weather driver_drugs drug_category  \\\n",
       "0        Yes    Clear           No       No drug   \n",
       "1          No    Rain          Yes        Opioid   \n",
       "2        Yes     Rain           No       No drug   \n",
       "3        Yes   Cloudy          Yes    Depressant   \n",
       "4          No    Rain           No       No drug   \n",
       "\n",
       "                        type_drugs driver_alcohol  alcohol_level (%)  \\\n",
       "0  Tested, No Drugs Found/Negative            Yes              0.294   \n",
       "1                         FENTANYL             No              0.000   \n",
       "2                   Test Not Given             No              0.000   \n",
       "3                          DELTA 9             No              0.000   \n",
       "4                   Test Not Given             No              0.000   \n",
       "\n",
       "                        death_race    age_range      speed_range  \\\n",
       "0        Black or African American  Young adult      31 - 59 mph   \n",
       "1  Not a Fatality (not Applicable)        Adult      31 - 59 mph   \n",
       "2                            White  Young adult  60mph and above   \n",
       "3  Not a Fatality (not Applicable)     Teenager      31 - 59 mph   \n",
       "4                            White        Adult      31 - 59 mph   \n",
       "\n",
       "  drug_alcohol_use  weekday_no  \n",
       "0          alcohol         3.0  \n",
       "1            drugs         4.0  \n",
       "2             none         4.0  \n",
       "3            drugs         5.0  \n",
       "4             none         6.0  "
      ]
     },
     "execution_count": 7,
     "metadata": {},
     "output_type": "execute_result"
    }
   ],
   "source": [
    "# Check how data looks like\n",
    "pd.options.display.max_columns = None\n",
    "df_car.head()"
   ]
  },
  {
   "cell_type": "code",
   "execution_count": 8,
   "metadata": {},
   "outputs": [
    {
     "data": {
      "text/plain": [
       "number               0\n",
       "state                0\n",
       "date                 0\n",
       "weekday              0\n",
       "county               0\n",
       "time                 0\n",
       "hour                 0\n",
       "total_vehicles       0\n",
       "persons              0\n",
       "fatalities           0\n",
       "route_type           0\n",
       "urban_rural          0\n",
       "driver_age           0\n",
       "driver_gender        0\n",
       "driver_license       0\n",
       "car_year             0\n",
       "car_make             0\n",
       "car_model            0\n",
       "speed_limit          0\n",
       "above_limit          0\n",
       "weather              0\n",
       "driver_drugs         0\n",
       "drug_category        0\n",
       "type_drugs           0\n",
       "driver_alcohol       0\n",
       "alcohol_level (%)    0\n",
       "death_race           0\n",
       "age_range            0\n",
       "speed_range          0\n",
       "drug_alcohol_use     0\n",
       "weekday_no           0\n",
       "dtype: int64"
      ]
     },
     "execution_count": 8,
     "metadata": {},
     "output_type": "execute_result"
    }
   ],
   "source": [
    "# Check for any missing values\n",
    "df_car.isnull().sum()"
   ]
  },
  {
   "cell_type": "code",
   "execution_count": 9,
   "metadata": {},
   "outputs": [
    {
     "data": {
      "text/plain": [
       "0        False\n",
       "1        False\n",
       "2        False\n",
       "3        False\n",
       "4        False\n",
       "         ...  \n",
       "34342    False\n",
       "34343    False\n",
       "34344    False\n",
       "34345    False\n",
       "34346    False\n",
       "Length: 34347, dtype: bool"
      ]
     },
     "execution_count": 9,
     "metadata": {},
     "output_type": "execute_result"
    }
   ],
   "source": [
    "# Check for any duplicates\n",
    "dups = df_car.duplicated()\n",
    "dups"
   ]
  },
  {
   "cell_type": "code",
   "execution_count": 10,
   "metadata": {},
   "outputs": [
    {
     "data": {
      "text/plain": [
       "(34347,)"
      ]
     },
     "execution_count": 10,
     "metadata": {},
     "output_type": "execute_result"
    }
   ],
   "source": [
    "dups.shape"
   ]
  },
  {
   "cell_type": "markdown",
   "metadata": {},
   "source": [
    "#### No missing values nor duplicates found! "
   ]
  },
  {
   "cell_type": "markdown",
   "metadata": {},
   "source": [
    "## 3. Explore data visually"
   ]
  },
  {
   "cell_type": "code",
   "execution_count": 11,
   "metadata": {},
   "outputs": [
    {
     "data": {
      "text/html": [
       "<div>\n",
       "<style scoped>\n",
       "    .dataframe tbody tr th:only-of-type {\n",
       "        vertical-align: middle;\n",
       "    }\n",
       "\n",
       "    .dataframe tbody tr th {\n",
       "        vertical-align: top;\n",
       "    }\n",
       "\n",
       "    .dataframe thead th {\n",
       "        text-align: right;\n",
       "    }\n",
       "</style>\n",
       "<table border=\"1\" class=\"dataframe\">\n",
       "  <thead>\n",
       "    <tr style=\"text-align: right;\">\n",
       "      <th></th>\n",
       "      <th>number</th>\n",
       "      <th>hour</th>\n",
       "      <th>total_vehicles</th>\n",
       "      <th>persons</th>\n",
       "      <th>fatalities</th>\n",
       "      <th>driver_age</th>\n",
       "      <th>car_year</th>\n",
       "      <th>speed_limit</th>\n",
       "      <th>alcohol_level (%)</th>\n",
       "      <th>weekday_no</th>\n",
       "    </tr>\n",
       "  </thead>\n",
       "  <tbody>\n",
       "    <tr>\n",
       "      <th>count</th>\n",
       "      <td>34347.000000</td>\n",
       "      <td>34347.000000</td>\n",
       "      <td>34347.000000</td>\n",
       "      <td>34347.000000</td>\n",
       "      <td>34347.000000</td>\n",
       "      <td>34347.000000</td>\n",
       "      <td>34347.000000</td>\n",
       "      <td>34347.000000</td>\n",
       "      <td>34347.000000</td>\n",
       "      <td>34347.000000</td>\n",
       "    </tr>\n",
       "    <tr>\n",
       "      <th>mean</th>\n",
       "      <td>17173.000000</td>\n",
       "      <td>13.219000</td>\n",
       "      <td>1.568754</td>\n",
       "      <td>2.204443</td>\n",
       "      <td>1.087984</td>\n",
       "      <td>41.772586</td>\n",
       "      <td>2008.275599</td>\n",
       "      <td>48.685911</td>\n",
       "      <td>0.035159</td>\n",
       "      <td>4.206685</td>\n",
       "    </tr>\n",
       "    <tr>\n",
       "      <th>std</th>\n",
       "      <td>9915.269184</td>\n",
       "      <td>6.797849</td>\n",
       "      <td>0.783246</td>\n",
       "      <td>1.604276</td>\n",
       "      <td>0.346687</td>\n",
       "      <td>18.355673</td>\n",
       "      <td>7.665318</td>\n",
       "      <td>13.103441</td>\n",
       "      <td>0.078894</td>\n",
       "      <td>1.990967</td>\n",
       "    </tr>\n",
       "    <tr>\n",
       "      <th>min</th>\n",
       "      <td>0.000000</td>\n",
       "      <td>0.000000</td>\n",
       "      <td>1.000000</td>\n",
       "      <td>1.000000</td>\n",
       "      <td>1.000000</td>\n",
       "      <td>7.000000</td>\n",
       "      <td>1923.000000</td>\n",
       "      <td>10.000000</td>\n",
       "      <td>0.000000</td>\n",
       "      <td>1.000000</td>\n",
       "    </tr>\n",
       "    <tr>\n",
       "      <th>25%</th>\n",
       "      <td>8586.500000</td>\n",
       "      <td>8.000000</td>\n",
       "      <td>1.000000</td>\n",
       "      <td>1.000000</td>\n",
       "      <td>1.000000</td>\n",
       "      <td>26.000000</td>\n",
       "      <td>2003.000000</td>\n",
       "      <td>40.000000</td>\n",
       "      <td>0.000000</td>\n",
       "      <td>2.000000</td>\n",
       "    </tr>\n",
       "    <tr>\n",
       "      <th>50%</th>\n",
       "      <td>17173.000000</td>\n",
       "      <td>14.000000</td>\n",
       "      <td>1.000000</td>\n",
       "      <td>2.000000</td>\n",
       "      <td>1.000000</td>\n",
       "      <td>38.000000</td>\n",
       "      <td>2008.000000</td>\n",
       "      <td>50.000000</td>\n",
       "      <td>0.000000</td>\n",
       "      <td>4.000000</td>\n",
       "    </tr>\n",
       "    <tr>\n",
       "      <th>75%</th>\n",
       "      <td>25759.500000</td>\n",
       "      <td>19.000000</td>\n",
       "      <td>2.000000</td>\n",
       "      <td>3.000000</td>\n",
       "      <td>1.000000</td>\n",
       "      <td>55.000000</td>\n",
       "      <td>2015.000000</td>\n",
       "      <td>55.000000</td>\n",
       "      <td>0.000000</td>\n",
       "      <td>6.000000</td>\n",
       "    </tr>\n",
       "    <tr>\n",
       "      <th>max</th>\n",
       "      <td>34346.000000</td>\n",
       "      <td>23.000000</td>\n",
       "      <td>15.000000</td>\n",
       "      <td>61.000000</td>\n",
       "      <td>8.000000</td>\n",
       "      <td>100.000000</td>\n",
       "      <td>2021.000000</td>\n",
       "      <td>85.000000</td>\n",
       "      <td>0.558000</td>\n",
       "      <td>7.000000</td>\n",
       "    </tr>\n",
       "  </tbody>\n",
       "</table>\n",
       "</div>"
      ],
      "text/plain": [
       "             number          hour  total_vehicles       persons    fatalities  \\\n",
       "count  34347.000000  34347.000000    34347.000000  34347.000000  34347.000000   \n",
       "mean   17173.000000     13.219000        1.568754      2.204443      1.087984   \n",
       "std     9915.269184      6.797849        0.783246      1.604276      0.346687   \n",
       "min        0.000000      0.000000        1.000000      1.000000      1.000000   \n",
       "25%     8586.500000      8.000000        1.000000      1.000000      1.000000   \n",
       "50%    17173.000000     14.000000        1.000000      2.000000      1.000000   \n",
       "75%    25759.500000     19.000000        2.000000      3.000000      1.000000   \n",
       "max    34346.000000     23.000000       15.000000     61.000000      8.000000   \n",
       "\n",
       "         driver_age      car_year   speed_limit  alcohol_level (%)  \\\n",
       "count  34347.000000  34347.000000  34347.000000       34347.000000   \n",
       "mean      41.772586   2008.275599     48.685911           0.035159   \n",
       "std       18.355673      7.665318     13.103441           0.078894   \n",
       "min        7.000000   1923.000000     10.000000           0.000000   \n",
       "25%       26.000000   2003.000000     40.000000           0.000000   \n",
       "50%       38.000000   2008.000000     50.000000           0.000000   \n",
       "75%       55.000000   2015.000000     55.000000           0.000000   \n",
       "max      100.000000   2021.000000     85.000000           0.558000   \n",
       "\n",
       "         weekday_no  \n",
       "count  34347.000000  \n",
       "mean       4.206685  \n",
       "std        1.990967  \n",
       "min        1.000000  \n",
       "25%        2.000000  \n",
       "50%        4.000000  \n",
       "75%        6.000000  \n",
       "max        7.000000  "
      ]
     },
     "execution_count": 11,
     "metadata": {},
     "output_type": "execute_result"
    }
   ],
   "source": [
    "df_car.describe()"
   ]
  },
  {
   "cell_type": "code",
   "execution_count": 12,
   "metadata": {},
   "outputs": [
    {
     "data": {
      "text/plain": [
       "<seaborn.axisgrid.FacetGrid at 0x7fd5ba4ec580>"
      ]
     },
     "execution_count": 12,
     "metadata": {},
     "output_type": "execute_result"
    },
    {
     "data": {
      "image/png": "[encoded data removed]",
      "text/plain": [
       "<Figure size 360x360 with 1 Axes>"
      ]
     },
     "metadata": {
      "needs_background": "light"
     },
     "output_type": "display_data"
    }
   ],
   "source": [
    "# check for extreme values\n",
    "sns.displot(df_car['total_vehicles'], bins=25)"
   ]
  },
  {
   "cell_type": "code",
   "execution_count": 13,
   "metadata": {},
   "outputs": [
    {
     "data": {
      "text/html": [
       "<div>\n",
       "<style scoped>\n",
       "    .dataframe tbody tr th:only-of-type {\n",
       "        vertical-align: middle;\n",
       "    }\n",
       "\n",
       "    .dataframe tbody tr th {\n",
       "        vertical-align: top;\n",
       "    }\n",
       "\n",
       "    .dataframe thead th {\n",
       "        text-align: right;\n",
       "    }\n",
       "</style>\n",
       "<table border=\"1\" class=\"dataframe\">\n",
       "  <thead>\n",
       "    <tr style=\"text-align: right;\">\n",
       "      <th></th>\n",
       "      <th>number</th>\n",
       "      <th>state</th>\n",
       "      <th>date</th>\n",
       "      <th>weekday</th>\n",
       "      <th>county</th>\n",
       "      <th>time</th>\n",
       "      <th>hour</th>\n",
       "      <th>total_vehicles</th>\n",
       "      <th>persons</th>\n",
       "      <th>fatalities</th>\n",
       "      <th>route_type</th>\n",
       "      <th>urban_rural</th>\n",
       "      <th>driver_age</th>\n",
       "      <th>driver_gender</th>\n",
       "      <th>driver_license</th>\n",
       "      <th>car_year</th>\n",
       "      <th>car_make</th>\n",
       "      <th>car_model</th>\n",
       "      <th>speed_limit</th>\n",
       "      <th>above_limit</th>\n",
       "      <th>weather</th>\n",
       "      <th>driver_drugs</th>\n",
       "      <th>drug_category</th>\n",
       "      <th>type_drugs</th>\n",
       "      <th>driver_alcohol</th>\n",
       "      <th>alcohol_level (%)</th>\n",
       "      <th>death_race</th>\n",
       "      <th>age_range</th>\n",
       "      <th>speed_range</th>\n",
       "      <th>drug_alcohol_use</th>\n",
       "      <th>weekday_no</th>\n",
       "    </tr>\n",
       "  </thead>\n",
       "  <tbody>\n",
       "    <tr>\n",
       "      <th>3494</th>\n",
       "      <td>3494</td>\n",
       "      <td>California</td>\n",
       "      <td>May 10, 2020</td>\n",
       "      <td>Sunday</td>\n",
       "      <td>LOS ANGELES</td>\n",
       "      <td>13:41</td>\n",
       "      <td>13</td>\n",
       "      <td>10</td>\n",
       "      <td>19</td>\n",
       "      <td>1</td>\n",
       "      <td>Interstate</td>\n",
       "      <td>Urban</td>\n",
       "      <td>32</td>\n",
       "      <td>Male</td>\n",
       "      <td>Valid</td>\n",
       "      <td>2008.0</td>\n",
       "      <td>International</td>\n",
       "      <td>MA025</td>\n",
       "      <td>55</td>\n",
       "      <td>Yes</td>\n",
       "      <td>Clear</td>\n",
       "      <td>No</td>\n",
       "      <td>No drug</td>\n",
       "      <td>Test Not Given</td>\n",
       "      <td>No</td>\n",
       "      <td>0.00</td>\n",
       "      <td>Not a Fatality (not Applicable)</td>\n",
       "      <td>Young adult</td>\n",
       "      <td>31 - 59 mph</td>\n",
       "      <td>none</td>\n",
       "      <td>7.0</td>\n",
       "    </tr>\n",
       "    <tr>\n",
       "      <th>4650</th>\n",
       "      <td>4650</td>\n",
       "      <td>California</td>\n",
       "      <td>July 17, 2020</td>\n",
       "      <td>Friday</td>\n",
       "      <td>SACRAMENTO</td>\n",
       "      <td>23:46</td>\n",
       "      <td>23</td>\n",
       "      <td>11</td>\n",
       "      <td>1</td>\n",
       "      <td>1</td>\n",
       "      <td>Unknown</td>\n",
       "      <td>Urban</td>\n",
       "      <td>26</td>\n",
       "      <td>Male</td>\n",
       "      <td>Not licensed</td>\n",
       "      <td>2009.0</td>\n",
       "      <td>Toyota</td>\n",
       "      <td>Camry</td>\n",
       "      <td>40</td>\n",
       "      <td>Yes</td>\n",
       "      <td>Clear</td>\n",
       "      <td>Yes</td>\n",
       "      <td>Cannabis</td>\n",
       "      <td>DELTA 9</td>\n",
       "      <td>No</td>\n",
       "      <td>0.00</td>\n",
       "      <td>White</td>\n",
       "      <td>Young adult</td>\n",
       "      <td>31 - 59 mph</td>\n",
       "      <td>drugs</td>\n",
       "      <td>5.0</td>\n",
       "    </tr>\n",
       "    <tr>\n",
       "      <th>5640</th>\n",
       "      <td>5640</td>\n",
       "      <td>California</td>\n",
       "      <td>September 8, 2020</td>\n",
       "      <td>Tuesday</td>\n",
       "      <td>SACRAMENTO</td>\n",
       "      <td>17:40</td>\n",
       "      <td>17</td>\n",
       "      <td>11</td>\n",
       "      <td>14</td>\n",
       "      <td>1</td>\n",
       "      <td>Interstate</td>\n",
       "      <td>Urban</td>\n",
       "      <td>23</td>\n",
       "      <td>Male</td>\n",
       "      <td>Valid</td>\n",
       "      <td>2019.0</td>\n",
       "      <td>Freightliner</td>\n",
       "      <td>New Cascadia 126\" Sleepercab</td>\n",
       "      <td>65</td>\n",
       "      <td>Yes</td>\n",
       "      <td>Clear</td>\n",
       "      <td>No</td>\n",
       "      <td>No drug</td>\n",
       "      <td>Test Not Given</td>\n",
       "      <td>No</td>\n",
       "      <td>0.00</td>\n",
       "      <td>Not a Fatality (not Applicable)</td>\n",
       "      <td>Young adult</td>\n",
       "      <td>60mph and above</td>\n",
       "      <td>none</td>\n",
       "      <td>2.0</td>\n",
       "    </tr>\n",
       "    <tr>\n",
       "      <th>6223</th>\n",
       "      <td>6223</td>\n",
       "      <td>Colorado</td>\n",
       "      <td>October 14, 2020</td>\n",
       "      <td>Wednesday</td>\n",
       "      <td>LARIMER</td>\n",
       "      <td>16:17</td>\n",
       "      <td>16</td>\n",
       "      <td>15</td>\n",
       "      <td>24</td>\n",
       "      <td>1</td>\n",
       "      <td>Local Street</td>\n",
       "      <td>Urban</td>\n",
       "      <td>73</td>\n",
       "      <td>Male</td>\n",
       "      <td>Valid</td>\n",
       "      <td>2005.0</td>\n",
       "      <td>Roadmaster</td>\n",
       "      <td>Roadmaster</td>\n",
       "      <td>45</td>\n",
       "      <td>No</td>\n",
       "      <td>Clear</td>\n",
       "      <td>No</td>\n",
       "      <td>No drug</td>\n",
       "      <td>Tested, No Drugs Found/Negative</td>\n",
       "      <td>No</td>\n",
       "      <td>0.00</td>\n",
       "      <td>Not a Fatality (not Applicable)</td>\n",
       "      <td>Older Adult</td>\n",
       "      <td>31 - 59 mph</td>\n",
       "      <td>none</td>\n",
       "      <td>3.0</td>\n",
       "    </tr>\n",
       "    <tr>\n",
       "      <th>7930</th>\n",
       "      <td>7930</td>\n",
       "      <td>Florida</td>\n",
       "      <td>June 24, 2020</td>\n",
       "      <td>Wednesday</td>\n",
       "      <td>MANATEE</td>\n",
       "      <td>13:9</td>\n",
       "      <td>13</td>\n",
       "      <td>10</td>\n",
       "      <td>13</td>\n",
       "      <td>2</td>\n",
       "      <td>Interstate</td>\n",
       "      <td>Rural</td>\n",
       "      <td>46</td>\n",
       "      <td>Male</td>\n",
       "      <td>Valid</td>\n",
       "      <td>2005.0</td>\n",
       "      <td>Peterbilt</td>\n",
       "      <td>379</td>\n",
       "      <td>70</td>\n",
       "      <td>No</td>\n",
       "      <td>Cloudy</td>\n",
       "      <td>Yes</td>\n",
       "      <td>Positive - Unknown</td>\n",
       "      <td>Tested For Drugs, Drugs Found, Type unknown/Po...</td>\n",
       "      <td>No</td>\n",
       "      <td>0.00</td>\n",
       "      <td>Not a Fatality (not Applicable)</td>\n",
       "      <td>Adult</td>\n",
       "      <td>60mph and above</td>\n",
       "      <td>drugs</td>\n",
       "      <td>3.0</td>\n",
       "    </tr>\n",
       "    <tr>\n",
       "      <th>10585</th>\n",
       "      <td>10585</td>\n",
       "      <td>Georgia</td>\n",
       "      <td>September 29, 2020</td>\n",
       "      <td>Tuesday</td>\n",
       "      <td>COLUMBIA</td>\n",
       "      <td>12:45</td>\n",
       "      <td>12</td>\n",
       "      <td>10</td>\n",
       "      <td>11</td>\n",
       "      <td>1</td>\n",
       "      <td>Interstate</td>\n",
       "      <td>Rural</td>\n",
       "      <td>26</td>\n",
       "      <td>Male</td>\n",
       "      <td>Valid</td>\n",
       "      <td>2014.0</td>\n",
       "      <td>Peterbilt</td>\n",
       "      <td>579</td>\n",
       "      <td>70</td>\n",
       "      <td>Yes</td>\n",
       "      <td>Clear</td>\n",
       "      <td>Yes</td>\n",
       "      <td>Depressant</td>\n",
       "      <td>BARBITURATES</td>\n",
       "      <td>No</td>\n",
       "      <td>0.00</td>\n",
       "      <td>Not a Fatality (not Applicable)</td>\n",
       "      <td>Young adult</td>\n",
       "      <td>60mph and above</td>\n",
       "      <td>drugs</td>\n",
       "      <td>2.0</td>\n",
       "    </tr>\n",
       "    <tr>\n",
       "      <th>12363</th>\n",
       "      <td>12363</td>\n",
       "      <td>Indiana</td>\n",
       "      <td>January 5, 2020</td>\n",
       "      <td>Sunday</td>\n",
       "      <td>BOONE</td>\n",
       "      <td>11:5</td>\n",
       "      <td>11</td>\n",
       "      <td>9</td>\n",
       "      <td>26</td>\n",
       "      <td>3</td>\n",
       "      <td>Interstate</td>\n",
       "      <td>Rural</td>\n",
       "      <td>34</td>\n",
       "      <td>Male</td>\n",
       "      <td>Valid</td>\n",
       "      <td>2019.0</td>\n",
       "      <td>Freightliner</td>\n",
       "      <td>New Cascadia 126\" Sleepercab</td>\n",
       "      <td>70</td>\n",
       "      <td>No</td>\n",
       "      <td>Clear</td>\n",
       "      <td>No</td>\n",
       "      <td>No drug</td>\n",
       "      <td>Tested, No Drugs Found/Negative</td>\n",
       "      <td>No</td>\n",
       "      <td>0.00</td>\n",
       "      <td>Not a Fatality (not Applicable)</td>\n",
       "      <td>Young adult</td>\n",
       "      <td>60mph and above</td>\n",
       "      <td>none</td>\n",
       "      <td>7.0</td>\n",
       "    </tr>\n",
       "    <tr>\n",
       "      <th>19548</th>\n",
       "      <td>19548</td>\n",
       "      <td>Nevada</td>\n",
       "      <td>April 20, 2020</td>\n",
       "      <td>Monday</td>\n",
       "      <td>CLARK</td>\n",
       "      <td>15:40</td>\n",
       "      <td>15</td>\n",
       "      <td>10</td>\n",
       "      <td>16</td>\n",
       "      <td>1</td>\n",
       "      <td>Local Street</td>\n",
       "      <td>Urban</td>\n",
       "      <td>69</td>\n",
       "      <td>Male</td>\n",
       "      <td>Valid</td>\n",
       "      <td>1993.0</td>\n",
       "      <td>Toyota</td>\n",
       "      <td>Camry</td>\n",
       "      <td>45</td>\n",
       "      <td>Yes</td>\n",
       "      <td>Clear</td>\n",
       "      <td>No</td>\n",
       "      <td>No drug</td>\n",
       "      <td>Tested, No Drugs Found/Negative</td>\n",
       "      <td>Yes</td>\n",
       "      <td>0.15</td>\n",
       "      <td>Other Asian or Pacific Islander</td>\n",
       "      <td>Older Adult</td>\n",
       "      <td>31 - 59 mph</td>\n",
       "      <td>alcohol</td>\n",
       "      <td>1.0</td>\n",
       "    </tr>\n",
       "    <tr>\n",
       "      <th>25871</th>\n",
       "      <td>25871</td>\n",
       "      <td>Pennsylvania</td>\n",
       "      <td>December 16, 2020</td>\n",
       "      <td>Wednesday</td>\n",
       "      <td>CLINTON</td>\n",
       "      <td>15:26</td>\n",
       "      <td>15</td>\n",
       "      <td>12</td>\n",
       "      <td>12</td>\n",
       "      <td>1</td>\n",
       "      <td>Interstate</td>\n",
       "      <td>Rural</td>\n",
       "      <td>34</td>\n",
       "      <td>Male</td>\n",
       "      <td>Valid</td>\n",
       "      <td>2019.0</td>\n",
       "      <td>Volvo Truck</td>\n",
       "      <td>VNL</td>\n",
       "      <td>70</td>\n",
       "      <td>Yes</td>\n",
       "      <td>Snow</td>\n",
       "      <td>No</td>\n",
       "      <td>No drug</td>\n",
       "      <td>Test Not Given</td>\n",
       "      <td>No</td>\n",
       "      <td>0.00</td>\n",
       "      <td>Not a Fatality (not Applicable)</td>\n",
       "      <td>Young adult</td>\n",
       "      <td>60mph and above</td>\n",
       "      <td>none</td>\n",
       "      <td>3.0</td>\n",
       "    </tr>\n",
       "    <tr>\n",
       "      <th>31856</th>\n",
       "      <td>31856</td>\n",
       "      <td>Utah</td>\n",
       "      <td>February 9, 2020</td>\n",
       "      <td>Sunday</td>\n",
       "      <td>GRAND</td>\n",
       "      <td>20:9</td>\n",
       "      <td>20</td>\n",
       "      <td>9</td>\n",
       "      <td>4</td>\n",
       "      <td>2</td>\n",
       "      <td>U.S. Highway</td>\n",
       "      <td>Urban</td>\n",
       "      <td>41</td>\n",
       "      <td>Male</td>\n",
       "      <td>Suspended</td>\n",
       "      <td>2020.0</td>\n",
       "      <td>Chevrolet</td>\n",
       "      <td>Silverado</td>\n",
       "      <td>30</td>\n",
       "      <td>Yes</td>\n",
       "      <td>Clear</td>\n",
       "      <td>No</td>\n",
       "      <td>No drug</td>\n",
       "      <td>Tested, No Drugs Found/Negative</td>\n",
       "      <td>No</td>\n",
       "      <td>0.00</td>\n",
       "      <td>Not a Fatality (not Applicable)</td>\n",
       "      <td>Adult</td>\n",
       "      <td>31 - 59 mph</td>\n",
       "      <td>none</td>\n",
       "      <td>7.0</td>\n",
       "    </tr>\n",
       "  </tbody>\n",
       "</table>\n",
       "</div>"
      ],
      "text/plain": [
       "       number         state                date    weekday        county  \\\n",
       "3494     3494    California        May 10, 2020     Sunday  LOS ANGELES    \n",
       "4650     4650    California       July 17, 2020     Friday   SACRAMENTO    \n",
       "5640     5640    California   September 8, 2020    Tuesday   SACRAMENTO    \n",
       "6223     6223      Colorado    October 14, 2020  Wednesday      LARIMER    \n",
       "7930     7930       Florida       June 24, 2020  Wednesday      MANATEE    \n",
       "10585   10585       Georgia  September 29, 2020    Tuesday     COLUMBIA    \n",
       "12363   12363       Indiana     January 5, 2020     Sunday        BOONE    \n",
       "19548   19548        Nevada      April 20, 2020     Monday        CLARK    \n",
       "25871   25871  Pennsylvania   December 16, 2020  Wednesday      CLINTON    \n",
       "31856   31856          Utah    February 9, 2020     Sunday        GRAND    \n",
       "\n",
       "        time  hour  total_vehicles  persons  fatalities    route_type  \\\n",
       "3494   13:41    13              10       19           1    Interstate   \n",
       "4650   23:46    23              11        1           1       Unknown   \n",
       "5640   17:40    17              11       14           1    Interstate   \n",
       "6223   16:17    16              15       24           1  Local Street   \n",
       "7930    13:9    13              10       13           2    Interstate   \n",
       "10585  12:45    12              10       11           1    Interstate   \n",
       "12363   11:5    11               9       26           3    Interstate   \n",
       "19548  15:40    15              10       16           1  Local Street   \n",
       "25871  15:26    15              12       12           1    Interstate   \n",
       "31856   20:9    20               9        4           2  U.S. Highway   \n",
       "\n",
       "      urban_rural  driver_age driver_gender driver_license  car_year  \\\n",
       "3494        Urban          32          Male          Valid    2008.0   \n",
       "4650        Urban          26          Male   Not licensed    2009.0   \n",
       "5640        Urban          23          Male          Valid    2019.0   \n",
       "6223        Urban          73          Male          Valid    2005.0   \n",
       "7930        Rural          46          Male          Valid    2005.0   \n",
       "10585       Rural          26          Male          Valid    2014.0   \n",
       "12363       Rural          34          Male          Valid    2019.0   \n",
       "19548       Urban          69          Male          Valid    1993.0   \n",
       "25871       Rural          34          Male          Valid    2019.0   \n",
       "31856       Urban          41          Male      Suspended    2020.0   \n",
       "\n",
       "            car_make                     car_model  speed_limit above_limit  \\\n",
       "3494   International                         MA025           55        Yes    \n",
       "4650          Toyota                         Camry           40        Yes    \n",
       "5640    Freightliner  New Cascadia 126\" Sleepercab           65        Yes    \n",
       "6223      Roadmaster                    Roadmaster           45          No   \n",
       "7930       Peterbilt                           379           70          No   \n",
       "10585      Peterbilt                           579           70        Yes    \n",
       "12363   Freightliner  New Cascadia 126\" Sleepercab           70          No   \n",
       "19548         Toyota                         Camry           45        Yes    \n",
       "25871    Volvo Truck                           VNL           70        Yes    \n",
       "31856      Chevrolet                     Silverado           30        Yes    \n",
       "\n",
       "      weather driver_drugs       drug_category  \\\n",
       "3494    Clear           No             No drug   \n",
       "4650    Clear          Yes            Cannabis   \n",
       "5640    Clear           No             No drug   \n",
       "6223    Clear           No             No drug   \n",
       "7930   Cloudy          Yes  Positive - Unknown   \n",
       "10585   Clear          Yes          Depressant   \n",
       "12363   Clear           No             No drug   \n",
       "19548   Clear           No             No drug   \n",
       "25871    Snow           No             No drug   \n",
       "31856   Clear           No             No drug   \n",
       "\n",
       "                                              type_drugs driver_alcohol  \\\n",
       "3494                                      Test Not Given             No   \n",
       "4650                                             DELTA 9             No   \n",
       "5640                                      Test Not Given             No   \n",
       "6223                     Tested, No Drugs Found/Negative             No   \n",
       "7930   Tested For Drugs, Drugs Found, Type unknown/Po...             No   \n",
       "10585                                       BARBITURATES             No   \n",
       "12363                    Tested, No Drugs Found/Negative             No   \n",
       "19548                    Tested, No Drugs Found/Negative            Yes   \n",
       "25871                                     Test Not Given             No   \n",
       "31856                    Tested, No Drugs Found/Negative             No   \n",
       "\n",
       "       alcohol_level (%)                       death_race    age_range  \\\n",
       "3494                0.00  Not a Fatality (not Applicable)  Young adult   \n",
       "4650                0.00                            White  Young adult   \n",
       "5640                0.00  Not a Fatality (not Applicable)  Young adult   \n",
       "6223                0.00  Not a Fatality (not Applicable)  Older Adult   \n",
       "7930                0.00  Not a Fatality (not Applicable)        Adult   \n",
       "10585               0.00  Not a Fatality (not Applicable)  Young adult   \n",
       "12363               0.00  Not a Fatality (not Applicable)  Young adult   \n",
       "19548               0.15  Other Asian or Pacific Islander  Older Adult   \n",
       "25871               0.00  Not a Fatality (not Applicable)  Young adult   \n",
       "31856               0.00  Not a Fatality (not Applicable)        Adult   \n",
       "\n",
       "           speed_range drug_alcohol_use  weekday_no  \n",
       "3494       31 - 59 mph             none         7.0  \n",
       "4650       31 - 59 mph            drugs         5.0  \n",
       "5640   60mph and above             none         2.0  \n",
       "6223       31 - 59 mph             none         3.0  \n",
       "7930   60mph and above            drugs         3.0  \n",
       "10585  60mph and above            drugs         2.0  \n",
       "12363  60mph and above             none         7.0  \n",
       "19548      31 - 59 mph          alcohol         1.0  \n",
       "25871  60mph and above             none         3.0  \n",
       "31856      31 - 59 mph             none         7.0  "
      ]
     },
     "execution_count": 13,
     "metadata": {},
     "output_type": "execute_result"
    }
   ],
   "source": [
    "# Check observation with more than 8 vehicles involved in an accident\n",
    "df_car[df_car['total_vehicles'] > 8 ]"
   ]
  },
  {
   "cell_type": "code",
   "execution_count": 14,
   "metadata": {},
   "outputs": [],
   "source": [
    "# There are only 10 records that have more than 8 vehicles, I will remove them from the data\n",
    "df_car = df_car[df_car['total_vehicles'] < 8 ]"
   ]
  },
  {
   "cell_type": "code",
   "execution_count": 15,
   "metadata": {},
   "outputs": [
    {
     "data": {
      "text/plain": [
       "(34326, 31)"
      ]
     },
     "execution_count": 15,
     "metadata": {},
     "output_type": "execute_result"
    }
   ],
   "source": [
    "df_car.shape"
   ]
  },
  {
   "cell_type": "code",
   "execution_count": 16,
   "metadata": {},
   "outputs": [
    {
     "data": {
      "text/plain": [
       "<seaborn.axisgrid.FacetGrid at 0x7fd5baa3df40>"
      ]
     },
     "execution_count": 16,
     "metadata": {},
     "output_type": "execute_result"
    },
    {
     "data": {
      "image/png": "[encoded data removed]",
      "text/plain": [
       "<Figure size 360x360 with 1 Axes>"
      ]
     },
     "metadata": {
      "needs_background": "light"
     },
     "output_type": "display_data"
    }
   ],
   "source": [
    "# check for extreme values\n",
    "sns.displot(df_car['total_vehicles'], bins=25)"
   ]
  },
  {
   "cell_type": "code",
   "execution_count": 17,
   "metadata": {},
   "outputs": [
    {
     "data": {
      "text/plain": [
       "<seaborn.axisgrid.FacetGrid at 0x7fd5ba7eed00>"
      ]
     },
     "execution_count": 17,
     "metadata": {},
     "output_type": "execute_result"
    },
    {
     "data": {
      "image/png": "[encoded data removed]",
      "text/plain": [
       "<Figure size 360x360 with 1 Axes>"
      ]
     },
     "metadata": {
      "needs_background": "light"
     },
     "output_type": "display_data"
    }
   ],
   "source": [
    "# check for extreme values\n",
    "sns.displot(df_car['persons'], bins=25)"
   ]
  },
  {
   "cell_type": "code",
   "execution_count": 18,
   "metadata": {},
   "outputs": [
    {
     "data": {
      "text/html": [
       "<div>\n",
       "<style scoped>\n",
       "    .dataframe tbody tr th:only-of-type {\n",
       "        vertical-align: middle;\n",
       "    }\n",
       "\n",
       "    .dataframe tbody tr th {\n",
       "        vertical-align: top;\n",
       "    }\n",
       "\n",
       "    .dataframe thead th {\n",
       "        text-align: right;\n",
       "    }\n",
       "</style>\n",
       "<table border=\"1\" class=\"dataframe\">\n",
       "  <thead>\n",
       "    <tr style=\"text-align: right;\">\n",
       "      <th></th>\n",
       "      <th>number</th>\n",
       "      <th>state</th>\n",
       "      <th>date</th>\n",
       "      <th>weekday</th>\n",
       "      <th>county</th>\n",
       "      <th>time</th>\n",
       "      <th>hour</th>\n",
       "      <th>total_vehicles</th>\n",
       "      <th>persons</th>\n",
       "      <th>fatalities</th>\n",
       "      <th>route_type</th>\n",
       "      <th>urban_rural</th>\n",
       "      <th>driver_age</th>\n",
       "      <th>driver_gender</th>\n",
       "      <th>driver_license</th>\n",
       "      <th>car_year</th>\n",
       "      <th>car_make</th>\n",
       "      <th>car_model</th>\n",
       "      <th>speed_limit</th>\n",
       "      <th>above_limit</th>\n",
       "      <th>weather</th>\n",
       "      <th>driver_drugs</th>\n",
       "      <th>drug_category</th>\n",
       "      <th>type_drugs</th>\n",
       "      <th>driver_alcohol</th>\n",
       "      <th>alcohol_level (%)</th>\n",
       "      <th>death_race</th>\n",
       "      <th>age_range</th>\n",
       "      <th>speed_range</th>\n",
       "      <th>drug_alcohol_use</th>\n",
       "      <th>weekday_no</th>\n",
       "    </tr>\n",
       "  </thead>\n",
       "  <tbody>\n",
       "    <tr>\n",
       "      <th>120</th>\n",
       "      <td>120</td>\n",
       "      <td>Alabama</td>\n",
       "      <td>March 2, 2020</td>\n",
       "      <td>Monday</td>\n",
       "      <td>TALLADEGA</td>\n",
       "      <td>7:10</td>\n",
       "      <td>7</td>\n",
       "      <td>2</td>\n",
       "      <td>21</td>\n",
       "      <td>1</td>\n",
       "      <td>State Highway</td>\n",
       "      <td>Rural</td>\n",
       "      <td>41</td>\n",
       "      <td>Female</td>\n",
       "      <td>Valid</td>\n",
       "      <td>2010.0</td>\n",
       "      <td>Hyundai</td>\n",
       "      <td>Sonata</td>\n",
       "      <td>55</td>\n",
       "      <td>Yes</td>\n",
       "      <td>Rain</td>\n",
       "      <td>Yes</td>\n",
       "      <td>Stimulant</td>\n",
       "      <td>AMPHETAMINE</td>\n",
       "      <td>No</td>\n",
       "      <td>0.000</td>\n",
       "      <td>White</td>\n",
       "      <td>Adult</td>\n",
       "      <td>31 - 59 mph</td>\n",
       "      <td>drugs</td>\n",
       "      <td>1.0</td>\n",
       "    </tr>\n",
       "    <tr>\n",
       "      <th>257</th>\n",
       "      <td>257</td>\n",
       "      <td>Alabama</td>\n",
       "      <td>May 16, 2020</td>\n",
       "      <td>Saturday</td>\n",
       "      <td>BALDWIN</td>\n",
       "      <td>17:55</td>\n",
       "      <td>17</td>\n",
       "      <td>3</td>\n",
       "      <td>13</td>\n",
       "      <td>1</td>\n",
       "      <td>County Road</td>\n",
       "      <td>Rural</td>\n",
       "      <td>62</td>\n",
       "      <td>Male</td>\n",
       "      <td>Not licensed</td>\n",
       "      <td>2000.0</td>\n",
       "      <td>Chevrolet</td>\n",
       "      <td>Silverado</td>\n",
       "      <td>55</td>\n",
       "      <td>No</td>\n",
       "      <td>Clear</td>\n",
       "      <td>No</td>\n",
       "      <td>No drug</td>\n",
       "      <td>Tested, No Drugs Found/Negative</td>\n",
       "      <td>Yes</td>\n",
       "      <td>0.246</td>\n",
       "      <td>White</td>\n",
       "      <td>Older Adult</td>\n",
       "      <td>31 - 59 mph</td>\n",
       "      <td>alcohol</td>\n",
       "      <td>6.0</td>\n",
       "    </tr>\n",
       "    <tr>\n",
       "      <th>654</th>\n",
       "      <td>654</td>\n",
       "      <td>Alabama</td>\n",
       "      <td>September 6, 2020</td>\n",
       "      <td>Sunday</td>\n",
       "      <td>BALDWIN</td>\n",
       "      <td>16:9</td>\n",
       "      <td>16</td>\n",
       "      <td>4</td>\n",
       "      <td>13</td>\n",
       "      <td>1</td>\n",
       "      <td>State Highway</td>\n",
       "      <td>Urban</td>\n",
       "      <td>43</td>\n",
       "      <td>Male</td>\n",
       "      <td>Valid</td>\n",
       "      <td>2013.0</td>\n",
       "      <td>Chevrolet</td>\n",
       "      <td>Camaro</td>\n",
       "      <td>45</td>\n",
       "      <td>No</td>\n",
       "      <td>Clear</td>\n",
       "      <td>No</td>\n",
       "      <td>No drug</td>\n",
       "      <td>Reported as Unknown if Tested for Drugs</td>\n",
       "      <td>Unknown</td>\n",
       "      <td>0.000</td>\n",
       "      <td>White</td>\n",
       "      <td>Adult</td>\n",
       "      <td>31 - 59 mph</td>\n",
       "      <td>none</td>\n",
       "      <td>7.0</td>\n",
       "    </tr>\n",
       "    <tr>\n",
       "      <th>1333</th>\n",
       "      <td>1333</td>\n",
       "      <td>Arizona</td>\n",
       "      <td>August 22, 2020</td>\n",
       "      <td>Saturday</td>\n",
       "      <td>PIMA</td>\n",
       "      <td>20:28</td>\n",
       "      <td>20</td>\n",
       "      <td>5</td>\n",
       "      <td>11</td>\n",
       "      <td>1</td>\n",
       "      <td>State Highway</td>\n",
       "      <td>Urban</td>\n",
       "      <td>41</td>\n",
       "      <td>Male</td>\n",
       "      <td>Valid</td>\n",
       "      <td>2004.0</td>\n",
       "      <td>Chevrolet</td>\n",
       "      <td>Trailblazer</td>\n",
       "      <td>35</td>\n",
       "      <td>Yes</td>\n",
       "      <td>Clear</td>\n",
       "      <td>No</td>\n",
       "      <td>No drug</td>\n",
       "      <td>Test Not Given</td>\n",
       "      <td>No</td>\n",
       "      <td>0.000</td>\n",
       "      <td>Not a Fatality (not Applicable)</td>\n",
       "      <td>Adult</td>\n",
       "      <td>31 - 59 mph</td>\n",
       "      <td>none</td>\n",
       "      <td>6.0</td>\n",
       "    </tr>\n",
       "    <tr>\n",
       "      <th>1609</th>\n",
       "      <td>1609</td>\n",
       "      <td>Arizona</td>\n",
       "      <td>December 1, 2020</td>\n",
       "      <td>Tuesday</td>\n",
       "      <td>MOHAVE</td>\n",
       "      <td>18:30</td>\n",
       "      <td>18</td>\n",
       "      <td>2</td>\n",
       "      <td>11</td>\n",
       "      <td>1</td>\n",
       "      <td>U.S. Highway</td>\n",
       "      <td>Rural</td>\n",
       "      <td>36</td>\n",
       "      <td>Male</td>\n",
       "      <td>Suspended</td>\n",
       "      <td>2013.0</td>\n",
       "      <td>Toyota</td>\n",
       "      <td>Camry</td>\n",
       "      <td>45</td>\n",
       "      <td>No</td>\n",
       "      <td>Clear</td>\n",
       "      <td>Yes</td>\n",
       "      <td>Opioid</td>\n",
       "      <td>FENTANYL</td>\n",
       "      <td>No</td>\n",
       "      <td>0.000</td>\n",
       "      <td>White</td>\n",
       "      <td>Young adult</td>\n",
       "      <td>31 - 59 mph</td>\n",
       "      <td>drugs</td>\n",
       "      <td>2.0</td>\n",
       "    </tr>\n",
       "    <tr>\n",
       "      <th>...</th>\n",
       "      <td>...</td>\n",
       "      <td>...</td>\n",
       "      <td>...</td>\n",
       "      <td>...</td>\n",
       "      <td>...</td>\n",
       "      <td>...</td>\n",
       "      <td>...</td>\n",
       "      <td>...</td>\n",
       "      <td>...</td>\n",
       "      <td>...</td>\n",
       "      <td>...</td>\n",
       "      <td>...</td>\n",
       "      <td>...</td>\n",
       "      <td>...</td>\n",
       "      <td>...</td>\n",
       "      <td>...</td>\n",
       "      <td>...</td>\n",
       "      <td>...</td>\n",
       "      <td>...</td>\n",
       "      <td>...</td>\n",
       "      <td>...</td>\n",
       "      <td>...</td>\n",
       "      <td>...</td>\n",
       "      <td>...</td>\n",
       "      <td>...</td>\n",
       "      <td>...</td>\n",
       "      <td>...</td>\n",
       "      <td>...</td>\n",
       "      <td>...</td>\n",
       "      <td>...</td>\n",
       "      <td>...</td>\n",
       "    </tr>\n",
       "    <tr>\n",
       "      <th>31653</th>\n",
       "      <td>31653</td>\n",
       "      <td>Texas</td>\n",
       "      <td>December 16, 2020</td>\n",
       "      <td>Wednesday</td>\n",
       "      <td>MARTIN</td>\n",
       "      <td>21:2</td>\n",
       "      <td>21</td>\n",
       "      <td>5</td>\n",
       "      <td>12</td>\n",
       "      <td>1</td>\n",
       "      <td>Interstate</td>\n",
       "      <td>Rural</td>\n",
       "      <td>37</td>\n",
       "      <td>Male</td>\n",
       "      <td>Valid</td>\n",
       "      <td>2012.0</td>\n",
       "      <td>Kenworth</td>\n",
       "      <td>T8 Series</td>\n",
       "      <td>75</td>\n",
       "      <td>Yes</td>\n",
       "      <td>Clear</td>\n",
       "      <td>No</td>\n",
       "      <td>No drug</td>\n",
       "      <td>Reported as Unknown if Tested for Drugs</td>\n",
       "      <td>No</td>\n",
       "      <td>0.000</td>\n",
       "      <td>White</td>\n",
       "      <td>Young adult</td>\n",
       "      <td>60mph and above</td>\n",
       "      <td>none</td>\n",
       "      <td>3.0</td>\n",
       "    </tr>\n",
       "    <tr>\n",
       "      <th>31848</th>\n",
       "      <td>31848</td>\n",
       "      <td>Utah</td>\n",
       "      <td>February 25, 2020</td>\n",
       "      <td>Tuesday</td>\n",
       "      <td>SALT LAKE</td>\n",
       "      <td>6:15</td>\n",
       "      <td>6</td>\n",
       "      <td>2</td>\n",
       "      <td>12</td>\n",
       "      <td>1</td>\n",
       "      <td>Local Street</td>\n",
       "      <td>Urban</td>\n",
       "      <td>28</td>\n",
       "      <td>Male</td>\n",
       "      <td>Suspended</td>\n",
       "      <td>2010.0</td>\n",
       "      <td>Chevrolet</td>\n",
       "      <td>Malibu</td>\n",
       "      <td>30</td>\n",
       "      <td>No</td>\n",
       "      <td>Clear</td>\n",
       "      <td>Yes</td>\n",
       "      <td>Cannabis</td>\n",
       "      <td>Tetrahydrocannabinols (THC)</td>\n",
       "      <td>No</td>\n",
       "      <td>0.000</td>\n",
       "      <td>Not a Fatality (not Applicable)</td>\n",
       "      <td>Young adult</td>\n",
       "      <td>31 - 59 mph</td>\n",
       "      <td>drugs</td>\n",
       "      <td>2.0</td>\n",
       "    </tr>\n",
       "    <tr>\n",
       "      <th>33076</th>\n",
       "      <td>33076</td>\n",
       "      <td>Washington</td>\n",
       "      <td>June 7, 2020</td>\n",
       "      <td>Sunday</td>\n",
       "      <td>DOUGLAS</td>\n",
       "      <td>13:5</td>\n",
       "      <td>13</td>\n",
       "      <td>3</td>\n",
       "      <td>14</td>\n",
       "      <td>2</td>\n",
       "      <td>U.S. Highway</td>\n",
       "      <td>Rural</td>\n",
       "      <td>30</td>\n",
       "      <td>Male</td>\n",
       "      <td>Not licensed</td>\n",
       "      <td>2001.0</td>\n",
       "      <td>Chevrolet</td>\n",
       "      <td>Astro Van</td>\n",
       "      <td>60</td>\n",
       "      <td>No</td>\n",
       "      <td>Clear</td>\n",
       "      <td>No</td>\n",
       "      <td>No drug</td>\n",
       "      <td>Tested, No Drugs Found/Negative</td>\n",
       "      <td>No</td>\n",
       "      <td>0.000</td>\n",
       "      <td>Other Race</td>\n",
       "      <td>Young adult</td>\n",
       "      <td>60mph and above</td>\n",
       "      <td>none</td>\n",
       "      <td>7.0</td>\n",
       "    </tr>\n",
       "    <tr>\n",
       "      <th>34238</th>\n",
       "      <td>34238</td>\n",
       "      <td>Wyoming</td>\n",
       "      <td>January 20, 2020</td>\n",
       "      <td>Monday</td>\n",
       "      <td>ALBANY</td>\n",
       "      <td>10:19</td>\n",
       "      <td>10</td>\n",
       "      <td>4</td>\n",
       "      <td>11</td>\n",
       "      <td>1</td>\n",
       "      <td>U.S. Highway</td>\n",
       "      <td>Urban</td>\n",
       "      <td>33</td>\n",
       "      <td>Male</td>\n",
       "      <td>Valid</td>\n",
       "      <td>2002.0</td>\n",
       "      <td>Ford</td>\n",
       "      <td>Explorer</td>\n",
       "      <td>65</td>\n",
       "      <td>No</td>\n",
       "      <td>Clear</td>\n",
       "      <td>No</td>\n",
       "      <td>No drug</td>\n",
       "      <td>Test Not Given</td>\n",
       "      <td>No</td>\n",
       "      <td>0.000</td>\n",
       "      <td>Not a Fatality (not Applicable)</td>\n",
       "      <td>Young adult</td>\n",
       "      <td>60mph and above</td>\n",
       "      <td>none</td>\n",
       "      <td>1.0</td>\n",
       "    </tr>\n",
       "    <tr>\n",
       "      <th>34314</th>\n",
       "      <td>34314</td>\n",
       "      <td>Wyoming</td>\n",
       "      <td>August 20, 2020</td>\n",
       "      <td>Thursday</td>\n",
       "      <td>PARK</td>\n",
       "      <td>9:26</td>\n",
       "      <td>9</td>\n",
       "      <td>3</td>\n",
       "      <td>11</td>\n",
       "      <td>1</td>\n",
       "      <td>U.S. Highway</td>\n",
       "      <td>Urban</td>\n",
       "      <td>89</td>\n",
       "      <td>Male</td>\n",
       "      <td>Valid</td>\n",
       "      <td>1994.0</td>\n",
       "      <td>Chevrolet</td>\n",
       "      <td>S-10 Pickup</td>\n",
       "      <td>30</td>\n",
       "      <td>No</td>\n",
       "      <td>Clear</td>\n",
       "      <td>No</td>\n",
       "      <td>No drug</td>\n",
       "      <td>Test Not Given</td>\n",
       "      <td>No</td>\n",
       "      <td>0.000</td>\n",
       "      <td>White</td>\n",
       "      <td>Elderly</td>\n",
       "      <td>31 - 59 mph</td>\n",
       "      <td>none</td>\n",
       "      <td>4.0</td>\n",
       "    </tr>\n",
       "  </tbody>\n",
       "</table>\n",
       "<p>74 rows × 31 columns</p>\n",
       "</div>"
      ],
      "text/plain": [
       "       number       state               date    weekday      county   time  \\\n",
       "120       120     Alabama      March 2, 2020     Monday  TALLADEGA    7:10   \n",
       "257       257     Alabama       May 16, 2020   Saturday    BALDWIN   17:55   \n",
       "654       654     Alabama  September 6, 2020     Sunday    BALDWIN    16:9   \n",
       "1333     1333     Arizona    August 22, 2020   Saturday       PIMA   20:28   \n",
       "1609     1609     Arizona   December 1, 2020    Tuesday     MOHAVE   18:30   \n",
       "...       ...         ...                ...        ...         ...    ...   \n",
       "31653   31653       Texas  December 16, 2020  Wednesday     MARTIN    21:2   \n",
       "31848   31848        Utah  February 25, 2020    Tuesday  SALT LAKE    6:15   \n",
       "33076   33076  Washington       June 7, 2020     Sunday    DOUGLAS    13:5   \n",
       "34238   34238     Wyoming   January 20, 2020     Monday     ALBANY   10:19   \n",
       "34314   34314     Wyoming    August 20, 2020   Thursday       PARK    9:26   \n",
       "\n",
       "       hour  total_vehicles  persons  fatalities     route_type urban_rural  \\\n",
       "120       7               2       21           1  State Highway       Rural   \n",
       "257      17               3       13           1    County Road       Rural   \n",
       "654      16               4       13           1  State Highway       Urban   \n",
       "1333     20               5       11           1  State Highway       Urban   \n",
       "1609     18               2       11           1   U.S. Highway       Rural   \n",
       "...     ...             ...      ...         ...            ...         ...   \n",
       "31653    21               5       12           1     Interstate       Rural   \n",
       "31848     6               2       12           1   Local Street       Urban   \n",
       "33076    13               3       14           2   U.S. Highway       Rural   \n",
       "34238    10               4       11           1   U.S. Highway       Urban   \n",
       "34314     9               3       11           1   U.S. Highway       Urban   \n",
       "\n",
       "       driver_age driver_gender driver_license  car_year   car_make  \\\n",
       "120            41        Female          Valid    2010.0    Hyundai   \n",
       "257            62          Male   Not licensed    2000.0  Chevrolet   \n",
       "654            43          Male          Valid    2013.0  Chevrolet   \n",
       "1333           41          Male          Valid    2004.0  Chevrolet   \n",
       "1609           36          Male      Suspended    2013.0     Toyota   \n",
       "...           ...           ...            ...       ...        ...   \n",
       "31653          37          Male          Valid    2012.0   Kenworth   \n",
       "31848          28          Male      Suspended    2010.0  Chevrolet   \n",
       "33076          30          Male   Not licensed    2001.0  Chevrolet   \n",
       "34238          33          Male          Valid    2002.0       Ford   \n",
       "34314          89          Male          Valid    1994.0  Chevrolet   \n",
       "\n",
       "         car_model  speed_limit above_limit weather driver_drugs  \\\n",
       "120         Sonata           55        Yes     Rain          Yes   \n",
       "257      Silverado           55          No   Clear           No   \n",
       "654         Camaro           45          No   Clear           No   \n",
       "1333   Trailblazer           35        Yes    Clear           No   \n",
       "1609         Camry           45          No   Clear          Yes   \n",
       "...            ...          ...         ...     ...          ...   \n",
       "31653    T8 Series           75        Yes    Clear           No   \n",
       "31848       Malibu           30          No   Clear          Yes   \n",
       "33076    Astro Van           60          No   Clear           No   \n",
       "34238     Explorer           65          No   Clear           No   \n",
       "34314  S-10 Pickup           30          No   Clear           No   \n",
       "\n",
       "      drug_category                               type_drugs driver_alcohol  \\\n",
       "120       Stimulant                              AMPHETAMINE             No   \n",
       "257         No drug          Tested, No Drugs Found/Negative            Yes   \n",
       "654         No drug  Reported as Unknown if Tested for Drugs        Unknown   \n",
       "1333        No drug                           Test Not Given             No   \n",
       "1609         Opioid                                 FENTANYL             No   \n",
       "...             ...                                      ...            ...   \n",
       "31653       No drug  Reported as Unknown if Tested for Drugs             No   \n",
       "31848      Cannabis              Tetrahydrocannabinols (THC)             No   \n",
       "33076       No drug          Tested, No Drugs Found/Negative             No   \n",
       "34238       No drug                           Test Not Given             No   \n",
       "34314       No drug                           Test Not Given             No   \n",
       "\n",
       "       alcohol_level (%)                       death_race    age_range  \\\n",
       "120                0.000                            White        Adult   \n",
       "257                0.246                            White  Older Adult   \n",
       "654                0.000                            White        Adult   \n",
       "1333               0.000  Not a Fatality (not Applicable)        Adult   \n",
       "1609               0.000                            White  Young adult   \n",
       "...                  ...                              ...          ...   \n",
       "31653              0.000                            White  Young adult   \n",
       "31848              0.000  Not a Fatality (not Applicable)  Young adult   \n",
       "33076              0.000                       Other Race  Young adult   \n",
       "34238              0.000  Not a Fatality (not Applicable)  Young adult   \n",
       "34314              0.000                            White      Elderly   \n",
       "\n",
       "           speed_range drug_alcohol_use  weekday_no  \n",
       "120        31 - 59 mph            drugs         1.0  \n",
       "257        31 - 59 mph          alcohol         6.0  \n",
       "654        31 - 59 mph             none         7.0  \n",
       "1333       31 - 59 mph             none         6.0  \n",
       "1609       31 - 59 mph            drugs         2.0  \n",
       "...                ...              ...         ...  \n",
       "31653  60mph and above             none         3.0  \n",
       "31848      31 - 59 mph            drugs         2.0  \n",
       "33076  60mph and above             none         7.0  \n",
       "34238  60mph and above             none         1.0  \n",
       "34314      31 - 59 mph             none         4.0  \n",
       "\n",
       "[74 rows x 31 columns]"
      ]
     },
     "execution_count": 18,
     "metadata": {},
     "output_type": "execute_result"
    }
   ],
   "source": [
    "# Check observation with more than 10 people involved in an accident\n",
    "df_car[df_car['persons'] > 10 ]"
   ]
  },
  {
   "cell_type": "code",
   "execution_count": 19,
   "metadata": {},
   "outputs": [],
   "source": [
    "# There are 74 records that have more than 10 people, I will remove them from the data\n",
    "df_car = df_car[df_car['persons'] < 10 ]"
   ]
  },
  {
   "cell_type": "code",
   "execution_count": 20,
   "metadata": {},
   "outputs": [
    {
     "data": {
      "text/plain": [
       "<seaborn.axisgrid.FacetGrid at 0x7fd5ba8d20a0>"
      ]
     },
     "execution_count": 20,
     "metadata": {},
     "output_type": "execute_result"
    },
    {
     "data": {
      "image/png": "[encoded data removed]",
      "text/plain": [
       "<Figure size 360x360 with 1 Axes>"
      ]
     },
     "metadata": {
      "needs_background": "light"
     },
     "output_type": "display_data"
    }
   ],
   "source": [
    "# check for extreme values\n",
    "sns.displot(df_car['persons'], bins=25)"
   ]
  },
  {
   "cell_type": "code",
   "execution_count": 21,
   "metadata": {},
   "outputs": [
    {
     "data": {
      "text/plain": [
       "<seaborn.axisgrid.FacetGrid at 0x7fd5bbba3100>"
      ]
     },
     "execution_count": 21,
     "metadata": {},
     "output_type": "execute_result"
    },
    {
     "data": {
      "image/png": "[encoded data removed]",
      "text/plain": [
       "<Figure size 360x360 with 1 Axes>"
      ]
     },
     "metadata": {
      "needs_background": "light"
     },
     "output_type": "display_data"
    }
   ],
   "source": [
    "# check for extreme values\n",
    "sns.displot(df_car['fatalities'], bins=20)"
   ]
  },
  {
   "cell_type": "code",
   "execution_count": 22,
   "metadata": {},
   "outputs": [
    {
     "data": {
      "text/plain": [
       "<seaborn.axisgrid.FacetGrid at 0x7fd5bbc83f10>"
      ]
     },
     "execution_count": 22,
     "metadata": {},
     "output_type": "execute_result"
    },
    {
     "data": {
      "image/png": "[encoded data removed]",
      "text/plain": [
       "<Figure size 360x360 with 1 Axes>"
      ]
     },
     "metadata": {
      "needs_background": "light"
     },
     "output_type": "display_data"
    }
   ],
   "source": [
    "# check for extreme values\n",
    "sns.displot(df_car['driver_age'], bins=20)"
   ]
  },
  {
   "cell_type": "code",
   "execution_count": 23,
   "metadata": {},
   "outputs": [
    {
     "data": {
      "text/plain": [
       "<seaborn.axisgrid.FacetGrid at 0x7fd5bcce1a00>"
      ]
     },
     "execution_count": 23,
     "metadata": {},
     "output_type": "execute_result"
    },
    {
     "data": {
      "image/png": "[encoded data removed]",
      "text/plain": [
       "<Figure size 360x360 with 1 Axes>"
      ]
     },
     "metadata": {
      "needs_background": "light"
     },
     "output_type": "display_data"
    }
   ],
   "source": [
    "# check for extreme values\n",
    "sns.displot(df_car['weekday_no'], bins=20)"
   ]
  },
  {
   "cell_type": "code",
   "execution_count": 24,
   "metadata": {},
   "outputs": [],
   "source": [
    "# Create a subset of numeric data\n",
    "\n",
    "sub = df_car[['total_vehicles', 'persons', 'fatalities', 'driver_age', 'car_year', 'speed_limit', 'alcohol_level (%)', 'weekday_no']]"
   ]
  },
  {
   "cell_type": "code",
   "execution_count": 25,
   "metadata": {},
   "outputs": [
    {
     "data": {
      "image/png": "[encoded data removed]",
      "text/plain": [
       "<Figure size 720x720 with 2 Axes>"
      ]
     },
     "metadata": {
      "needs_background": "light"
     },
     "output_type": "display_data"
    }
   ],
   "source": [
    "# I want to check the correlation coefficients again. \n",
    "# Create a subplot with matplotlib\n",
    "f,ax = plt.subplots(figsize=(10,10))\n",
    "\n",
    "# Create the correlation heatmap in seaborn by applying a heatmap onto the correlation matrix.\n",
    "corr = sns.heatmap(sub.corr(), annot = True, ax = ax) # The `annot` argument allows the plot to \n",
    "#place the correlation coefficients onto the heatmap."
   ]
  },
  {
   "cell_type": "code",
   "execution_count": 26,
   "metadata": {},
   "outputs": [
    {
     "data": {
      "image/png": "[encoded data removed]",
      "text/plain": [
       "<Figure size 432x288 with 1 Axes>"
      ]
     },
     "metadata": {
      "needs_background": "light"
     },
     "output_type": "display_data"
    }
   ],
   "source": [
    "# Create a scatterplot using the higest r --> total_vehicles and persons\n",
    "df_car.plot(x = 'total_vehicles', y='persons',style='o')\n",
    "plt.title('Total Vehicles VS People involved in an accident')  \n",
    "plt.xlabel('Total Vehicles')  \n",
    "plt.ylabel('People')  \n",
    "plt.show()"
   ]
  },
  {
   "cell_type": "markdown",
   "metadata": {},
   "source": [
    "### I don't like this at all, I will keep looking for more combinations"
   ]
  },
  {
   "cell_type": "code",
   "execution_count": 27,
   "metadata": {},
   "outputs": [
    {
     "data": {
      "image/png": "[encoded data removed]",
      "text/plain": [
       "<Figure size 432x288 with 1 Axes>"
      ]
     },
     "metadata": {
      "needs_background": "light"
     },
     "output_type": "display_data"
    }
   ],
   "source": [
    "# Create a scatterplot\n",
    "df_car.plot(x = 'total_vehicles', y='fatalities',style='o')\n",
    "plt.title('Total vehicles VS Fatalities in an accident')  \n",
    "plt.xlabel('Total vehicles')  \n",
    "plt.ylabel('Fatalities')  \n",
    "plt.show()"
   ]
  },
  {
   "cell_type": "code",
   "execution_count": 28,
   "metadata": {},
   "outputs": [
    {
     "data": {
      "image/png": "[encoded data removed]",
      "text/plain": [
       "<Figure size 432x288 with 1 Axes>"
      ]
     },
     "metadata": {
      "needs_background": "light"
     },
     "output_type": "display_data"
    }
   ],
   "source": [
    "# Create a scatterplot\n",
    "df_car.plot(x = 'speed_limit', y='fatalities',style='o')\n",
    "plt.title('Speed limit VS Fatalities in an accident')  \n",
    "plt.xlabel('Speed Limit')  \n",
    "plt.ylabel('Fatalities')  \n",
    "plt.show()"
   ]
  },
  {
   "cell_type": "markdown",
   "metadata": {},
   "source": [
    "## 4. Hypothesis"
   ]
  },
  {
   "cell_type": "markdown",
   "metadata": {},
   "source": [
    "### I will use the combination of the 2 variables that give me the highest correlation coefficient:\n",
    "\n",
    "### \" The more vehicles involved in any accident, the more people that are involved in it. \""
   ]
  },
  {
   "cell_type": "markdown",
   "metadata": {},
   "source": [
    "## 5. Reshape the variables into NumPy arrays"
   ]
  },
  {
   "cell_type": "code",
   "execution_count": 29,
   "metadata": {},
   "outputs": [],
   "source": [
    "X = df_car['total_vehicles'].values.reshape(-1,1)\n",
    "y = df_car['persons'].values.reshape(-1,1)"
   ]
  },
  {
   "cell_type": "code",
   "execution_count": 30,
   "metadata": {},
   "outputs": [
    {
     "data": {
      "text/plain": [
       "array([[1],\n",
       "       [4],\n",
       "       [2],\n",
       "       ...,\n",
       "       [3],\n",
       "       [2],\n",
       "       [1]])"
      ]
     },
     "execution_count": 30,
     "metadata": {},
     "output_type": "execute_result"
    }
   ],
   "source": [
    "X"
   ]
  },
  {
   "cell_type": "code",
   "execution_count": 31,
   "metadata": {},
   "outputs": [
    {
     "data": {
      "text/plain": [
       "array([[4],\n",
       "       [6],\n",
       "       [2],\n",
       "       ...,\n",
       "       [9],\n",
       "       [3],\n",
       "       [2]])"
      ]
     },
     "execution_count": 31,
     "metadata": {},
     "output_type": "execute_result"
    }
   ],
   "source": [
    "y"
   ]
  },
  {
   "cell_type": "markdown",
   "metadata": {},
   "source": [
    "## 6. Split the data into a training set and a test set"
   ]
  },
  {
   "cell_type": "code",
   "execution_count": 32,
   "metadata": {},
   "outputs": [],
   "source": [
    "X_train, X_test, y_train, y_test = train_test_split(X, y, test_size=0.3, random_state=0)"
   ]
  },
  {
   "cell_type": "markdown",
   "metadata": {},
   "source": [
    "## 7. Run a linear regression on the data \n",
    "### 7.1 Fit the model you created to the training set. "
   ]
  },
  {
   "cell_type": "code",
   "execution_count": 33,
   "metadata": {},
   "outputs": [],
   "source": [
    "# Create a regression object.\n",
    "regression = LinearRegression()"
   ]
  },
  {
   "cell_type": "code",
   "execution_count": 34,
   "metadata": {},
   "outputs": [
    {
     "data": {
      "text/plain": [
       "LinearRegression()"
      ]
     },
     "execution_count": 34,
     "metadata": {},
     "output_type": "execute_result"
    }
   ],
   "source": [
    "# Fit the regression object onto the training set.\n",
    "regression.fit(X_train, y_train)"
   ]
  },
  {
   "cell_type": "markdown",
   "metadata": {},
   "source": [
    "### 7.2 Then, create a prediction for y on the test set"
   ]
  },
  {
   "cell_type": "code",
   "execution_count": 35,
   "metadata": {},
   "outputs": [],
   "source": [
    "# Predict the values of y using X.\n",
    "y_predicted = regression.predict(X_test)"
   ]
  },
  {
   "cell_type": "markdown",
   "metadata": {},
   "source": [
    "## 8. Create a plot that shows the regression line on the test set."
   ]
  },
  {
   "cell_type": "code",
   "execution_count": 36,
   "metadata": {},
   "outputs": [
    {
     "data": {
      "image/png": "[encoded data removed]",
      "text/plain": [
       "<Figure size 432x288 with 1 Axes>"
      ]
     },
     "metadata": {
      "needs_background": "light"
     },
     "output_type": "display_data"
    }
   ],
   "source": [
    "# Create a plot that shows the regression line from the model on the test set.\n",
    "plot_test = plt\n",
    "plot_test.scatter(X_test, y_test, color='gray', s = 15)\n",
    "plot_test.plot(X_test, y_predicted, color='red', linewidth =3)\n",
    "plot_test.title('Total_vehicles vs People (Test set)')\n",
    "plot_test.xlabel('Total Vehicles')\n",
    "plot_test.ylabel('People in an accident')\n",
    "plot_test.show()"
   ]
  },
  {
   "cell_type": "markdown",
   "metadata": {},
   "source": [
    "## 9. Interpretation of how well the line appears to fit the data."
   ]
  },
  {
   "cell_type": "markdown",
   "metadata": {},
   "source": [
    "### Since we are using discrete data, it is a little difficult to see the behavior."
   ]
  },
  {
   "cell_type": "markdown",
   "metadata": {},
   "source": [
    "## 10. Check the model performance statistics (MSE and R2)"
   ]
  },
  {
   "cell_type": "code",
   "execution_count": 37,
   "metadata": {},
   "outputs": [],
   "source": [
    "# Create objects of the model's summary statistics.\n",
    "rmse = mean_squared_error(y_test, y_predicted) \n",
    "r2 = r2_score(y_test, y_predicted)"
   ]
  },
  {
   "cell_type": "code",
   "execution_count": 38,
   "metadata": {},
   "outputs": [
    {
     "name": "stdout",
     "output_type": "stream",
     "text": [
      "Slope: [[1.21127897]]\n",
      "Mean squared error:  1.2397598240826697\n",
      "R2 score:  0.40229992370399636\n"
     ]
    }
   ],
   "source": [
    "# Print model's summary statistics. \n",
    "print('Slope:' ,regression.coef_)\n",
    "print('Mean squared error: ', rmse)\n",
    "print('R2 score: ', r2)"
   ]
  },
  {
   "cell_type": "markdown",
   "metadata": {},
   "source": [
    "## 11. Compare the predicted y values with the actual y values in a dataframe"
   ]
  },
  {
   "cell_type": "code",
   "execution_count": 39,
   "metadata": {},
   "outputs": [
    {
     "data": {
      "text/plain": [
       "array([[2.69084701],\n",
       "       [2.69084701],\n",
       "       [1.47956803],\n",
       "       ...,\n",
       "       [2.69084701],\n",
       "       [1.47956803],\n",
       "       [2.69084701]])"
      ]
     },
     "execution_count": 39,
     "metadata": {},
     "output_type": "execute_result"
    }
   ],
   "source": [
    "y_predicted"
   ]
  },
  {
   "cell_type": "code",
   "execution_count": 40,
   "metadata": {},
   "outputs": [
    {
     "data": {
      "text/html": [
       "<div>\n",
       "<style scoped>\n",
       "    .dataframe tbody tr th:only-of-type {\n",
       "        vertical-align: middle;\n",
       "    }\n",
       "\n",
       "    .dataframe tbody tr th {\n",
       "        vertical-align: top;\n",
       "    }\n",
       "\n",
       "    .dataframe thead th {\n",
       "        text-align: right;\n",
       "    }\n",
       "</style>\n",
       "<table border=\"1\" class=\"dataframe\">\n",
       "  <thead>\n",
       "    <tr style=\"text-align: right;\">\n",
       "      <th></th>\n",
       "      <th>Actual</th>\n",
       "      <th>Predicted</th>\n",
       "    </tr>\n",
       "  </thead>\n",
       "  <tbody>\n",
       "    <tr>\n",
       "      <th>0</th>\n",
       "      <td>2</td>\n",
       "      <td>2.690847</td>\n",
       "    </tr>\n",
       "    <tr>\n",
       "      <th>1</th>\n",
       "      <td>2</td>\n",
       "      <td>2.690847</td>\n",
       "    </tr>\n",
       "    <tr>\n",
       "      <th>2</th>\n",
       "      <td>2</td>\n",
       "      <td>1.479568</td>\n",
       "    </tr>\n",
       "    <tr>\n",
       "      <th>3</th>\n",
       "      <td>1</td>\n",
       "      <td>1.479568</td>\n",
       "    </tr>\n",
       "    <tr>\n",
       "      <th>4</th>\n",
       "      <td>1</td>\n",
       "      <td>1.479568</td>\n",
       "    </tr>\n",
       "    <tr>\n",
       "      <th>5</th>\n",
       "      <td>2</td>\n",
       "      <td>2.690847</td>\n",
       "    </tr>\n",
       "    <tr>\n",
       "      <th>6</th>\n",
       "      <td>1</td>\n",
       "      <td>1.479568</td>\n",
       "    </tr>\n",
       "    <tr>\n",
       "      <th>7</th>\n",
       "      <td>3</td>\n",
       "      <td>2.690847</td>\n",
       "    </tr>\n",
       "    <tr>\n",
       "      <th>8</th>\n",
       "      <td>1</td>\n",
       "      <td>1.479568</td>\n",
       "    </tr>\n",
       "    <tr>\n",
       "      <th>9</th>\n",
       "      <td>3</td>\n",
       "      <td>1.479568</td>\n",
       "    </tr>\n",
       "    <tr>\n",
       "      <th>10</th>\n",
       "      <td>3</td>\n",
       "      <td>1.479568</td>\n",
       "    </tr>\n",
       "    <tr>\n",
       "      <th>11</th>\n",
       "      <td>2</td>\n",
       "      <td>2.690847</td>\n",
       "    </tr>\n",
       "    <tr>\n",
       "      <th>12</th>\n",
       "      <td>1</td>\n",
       "      <td>1.479568</td>\n",
       "    </tr>\n",
       "    <tr>\n",
       "      <th>13</th>\n",
       "      <td>2</td>\n",
       "      <td>1.479568</td>\n",
       "    </tr>\n",
       "    <tr>\n",
       "      <th>14</th>\n",
       "      <td>1</td>\n",
       "      <td>1.479568</td>\n",
       "    </tr>\n",
       "    <tr>\n",
       "      <th>15</th>\n",
       "      <td>3</td>\n",
       "      <td>2.690847</td>\n",
       "    </tr>\n",
       "    <tr>\n",
       "      <th>16</th>\n",
       "      <td>7</td>\n",
       "      <td>2.690847</td>\n",
       "    </tr>\n",
       "    <tr>\n",
       "      <th>17</th>\n",
       "      <td>1</td>\n",
       "      <td>1.479568</td>\n",
       "    </tr>\n",
       "    <tr>\n",
       "      <th>18</th>\n",
       "      <td>3</td>\n",
       "      <td>2.690847</td>\n",
       "    </tr>\n",
       "    <tr>\n",
       "      <th>19</th>\n",
       "      <td>1</td>\n",
       "      <td>1.479568</td>\n",
       "    </tr>\n",
       "    <tr>\n",
       "      <th>20</th>\n",
       "      <td>1</td>\n",
       "      <td>1.479568</td>\n",
       "    </tr>\n",
       "    <tr>\n",
       "      <th>21</th>\n",
       "      <td>3</td>\n",
       "      <td>2.690847</td>\n",
       "    </tr>\n",
       "    <tr>\n",
       "      <th>22</th>\n",
       "      <td>1</td>\n",
       "      <td>1.479568</td>\n",
       "    </tr>\n",
       "    <tr>\n",
       "      <th>23</th>\n",
       "      <td>1</td>\n",
       "      <td>1.479568</td>\n",
       "    </tr>\n",
       "    <tr>\n",
       "      <th>24</th>\n",
       "      <td>1</td>\n",
       "      <td>1.479568</td>\n",
       "    </tr>\n",
       "    <tr>\n",
       "      <th>25</th>\n",
       "      <td>1</td>\n",
       "      <td>1.479568</td>\n",
       "    </tr>\n",
       "    <tr>\n",
       "      <th>26</th>\n",
       "      <td>2</td>\n",
       "      <td>2.690847</td>\n",
       "    </tr>\n",
       "    <tr>\n",
       "      <th>27</th>\n",
       "      <td>1</td>\n",
       "      <td>1.479568</td>\n",
       "    </tr>\n",
       "    <tr>\n",
       "      <th>28</th>\n",
       "      <td>2</td>\n",
       "      <td>1.479568</td>\n",
       "    </tr>\n",
       "    <tr>\n",
       "      <th>29</th>\n",
       "      <td>2</td>\n",
       "      <td>2.690847</td>\n",
       "    </tr>\n",
       "  </tbody>\n",
       "</table>\n",
       "</div>"
      ],
      "text/plain": [
       "    Actual  Predicted\n",
       "0        2   2.690847\n",
       "1        2   2.690847\n",
       "2        2   1.479568\n",
       "3        1   1.479568\n",
       "4        1   1.479568\n",
       "5        2   2.690847\n",
       "6        1   1.479568\n",
       "7        3   2.690847\n",
       "8        1   1.479568\n",
       "9        3   1.479568\n",
       "10       3   1.479568\n",
       "11       2   2.690847\n",
       "12       1   1.479568\n",
       "13       2   1.479568\n",
       "14       1   1.479568\n",
       "15       3   2.690847\n",
       "16       7   2.690847\n",
       "17       1   1.479568\n",
       "18       3   2.690847\n",
       "19       1   1.479568\n",
       "20       1   1.479568\n",
       "21       3   2.690847\n",
       "22       1   1.479568\n",
       "23       1   1.479568\n",
       "24       1   1.479568\n",
       "25       1   1.479568\n",
       "26       2   2.690847\n",
       "27       1   1.479568\n",
       "28       2   1.479568\n",
       "29       2   2.690847"
      ]
     },
     "execution_count": 40,
     "metadata": {},
     "output_type": "execute_result"
    }
   ],
   "source": [
    "# Create a dataframe comparing the actual and predicted values of y.\n",
    "data = pd.DataFrame({'Actual': y_test.flatten(), 'Predicted': y_predicted.flatten()})\n",
    "data.head(30)"
   ]
  },
  {
   "cell_type": "code",
   "execution_count": 41,
   "metadata": {},
   "outputs": [],
   "source": [
    "# Predict.\n",
    "y_predicted_train = regression.predict(X_train)"
   ]
  },
  {
   "cell_type": "code",
   "execution_count": 42,
   "metadata": {},
   "outputs": [],
   "source": [
    "rmse = mean_squared_error(y_train, y_predicted_train)\n",
    "r2 = r2_score(y_train, y_predicted_train)"
   ]
  },
  {
   "cell_type": "code",
   "execution_count": 43,
   "metadata": {},
   "outputs": [
    {
     "name": "stdout",
     "output_type": "stream",
     "text": [
      "Slope: [[1.21127897]]\n",
      "Mean squared error:  1.1782844666445753\n",
      "R2 score:  0.4076032156757897\n"
     ]
    }
   ],
   "source": [
    "print('Slope:' ,regression.coef_)\n",
    "print('Mean squared error: ', rmse)\n",
    "print('R2 score: ', r2)"
   ]
  },
  {
   "cell_type": "code",
   "execution_count": 44,
   "metadata": {},
   "outputs": [
    {
     "data": {
      "image/png": "[encoded data removed]",
      "text/plain": [
       "<Figure size 432x288 with 1 Axes>"
      ]
     },
     "metadata": {
      "needs_background": "light"
     },
     "output_type": "display_data"
    }
   ],
   "source": [
    "# Visualizing the training set results.\n",
    "plot_test = plt\n",
    "plot_test.scatter(X_train, y_train, color='green', s = 15)\n",
    "plot_test.plot(X_train, y_predicted_train, color='red', linewidth =3)\n",
    "plot_test.title('Total_vehicles vs People (Test set)')\n",
    "plot_test.xlabel('Total Vehicles')\n",
    "plot_test.ylabel('People in an accident')\n",
    "plot_test.show()"
   ]
  },
  {
   "cell_type": "markdown",
   "metadata": {},
   "source": [
    "### Actual values: slope = 1.21 MSE = 1.2398  r^2 = 0.4023  --> r = .634\n",
    "### Test value:       slope = 1.21 MSE = 1.1783  r^2 = 0.4076  --> r = .637\n",
    "\n",
    "### The slope is the same for both sets, and the Mean Standard Error is close! Coefficient of determination is low for both but fairly close. And the Correlation coefficient is at 63% for both. \n",
    "\n",
    "### So eventhough we have a weak predictive model (using these 2 variables) the model seems to work fine!"
   ]
  },
  {
   "cell_type": "code",
   "execution_count": 45,
   "metadata": {},
   "outputs": [],
   "source": [
    "# Export cleaned data\n",
    "df_car.to_csv(os.path.join(path, '2 Data','Prepared data', 'accidents_clean3.csv'))"
   ]
  },
  {
   "cell_type": "markdown",
   "metadata": {},
   "source": [
    "### The END! "
   ]
  }
 ],
 "metadata": {
  "kernelspec": {
   "display_name": "Python 3",
   "language": "python",
   "name": "python3"
  },
  "language_info": {
   "codemirror_mode": {
    "name": "ipython",
    "version": 3
   },
   "file_extension": ".py",
   "mimetype": "text/x-python",
   "name": "python",
   "nbconvert_exporter": "python",
   "pygments_lexer": "ipython3",
   "version": "3.8.5"
  }
 },
 "nbformat": 4,
 "nbformat_minor": 4
}
